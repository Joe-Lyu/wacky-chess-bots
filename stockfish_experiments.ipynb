{
 "cells": [
  {
   "cell_type": "code",
   "execution_count": 3,
   "metadata": {},
   "outputs": [],
   "source": [
    "from stockfish import Stockfish\n",
    "stockfish = Stockfish(path=\"./stockfish/stockfish-windows-x86-64-avx2.exe\")\n",
    "stockfish.set_fen_position(\"rnbqkbnr/pppp1ppp/4p3/8/4P3/8/PPPP1PPP/RNBQKBNR w KQkq - 0 2\")"
   ]
  },
  {
   "cell_type": "code",
   "execution_count": 5,
   "metadata": {},
   "outputs": [
    {
     "data": {
      "text/plain": [
       "[{'Move': 'd2d4', 'Centipawn': 35, 'Mate': None},\n",
       " {'Move': 'b1c3', 'Centipawn': 29, 'Mate': None},\n",
       " {'Move': 'g1f3', 'Centipawn': 25, 'Mate': None},\n",
       " {'Move': 'c2c3', 'Centipawn': 13, 'Mate': None},\n",
       " {'Move': 'd1e2', 'Centipawn': 10, 'Mate': None},\n",
       " {'Move': 'h2h3', 'Centipawn': 7, 'Mate': None},\n",
       " {'Move': 'f1e2', 'Centipawn': 1, 'Mate': None},\n",
       " {'Move': 'd2d3', 'Centipawn': -1, 'Mate': None},\n",
       " {'Move': 'g2g3', 'Centipawn': -6, 'Mate': None},\n",
       " {'Move': 'a2a3', 'Centipawn': -12, 'Mate': None},\n",
       " {'Move': 'c2c4', 'Centipawn': -14, 'Mate': None},\n",
       " {'Move': 'f1d3', 'Centipawn': -14, 'Mate': None},\n",
       " {'Move': 'a2a4', 'Centipawn': -20, 'Mate': None},\n",
       " {'Move': 'f1b5', 'Centipawn': -20, 'Mate': None},\n",
       " {'Move': 'e4e5', 'Centipawn': -21, 'Mate': None},\n",
       " {'Move': 'f2f4', 'Centipawn': -21, 'Mate': None},\n",
       " {'Move': 'h2h4', 'Centipawn': -26, 'Mate': None},\n",
       " {'Move': 'b2b3', 'Centipawn': -28, 'Mate': None},\n",
       " {'Move': 'g1e2', 'Centipawn': -31, 'Mate': None},\n",
       " {'Move': 'f1c4', 'Centipawn': -32, 'Mate': None},\n",
       " {'Move': 'd1f3', 'Centipawn': -32, 'Mate': None},\n",
       " {'Move': 'g1h3', 'Centipawn': -38, 'Mate': None},\n",
       " {'Move': 'b1a3', 'Centipawn': -43, 'Mate': None},\n",
       " {'Move': 'd1h5', 'Centipawn': -51, 'Mate': None},\n",
       " {'Move': 'f2f3', 'Centipawn': -58, 'Mate': None},\n",
       " {'Move': 'd1g4', 'Centipawn': -60, 'Mate': None},\n",
       " {'Move': 'e1e2', 'Centipawn': -80, 'Mate': None},\n",
       " {'Move': 'b2b4', 'Centipawn': -81, 'Mate': None},\n",
       " {'Move': 'g2g4', 'Centipawn': -85, 'Mate': None},\n",
       " {'Move': 'f1a6', 'Centipawn': -475, 'Mate': None}]"
      ]
     },
     "execution_count": 5,
     "metadata": {},
     "output_type": "execute_result"
    }
   ],
   "source": [
    "stockfish.get_top_moves(100)"
   ]
  },
  {
   "cell_type": "code",
   "execution_count": 7,
   "metadata": {},
   "outputs": [
    {
     "name": "stdout",
     "output_type": "stream",
     "text": [
      "+---+---+---+---+---+---+---+---+\n",
      "| r | n | b | q | k | b | n | r | 8\n",
      "+---+---+---+---+---+---+---+---+\n",
      "| p | p | p | p |   | p | p | p | 7\n",
      "+---+---+---+---+---+---+---+---+\n",
      "|   |   |   |   | p |   |   |   | 6\n",
      "+---+---+---+---+---+---+---+---+\n",
      "|   |   |   |   |   |   |   |   | 5\n",
      "+---+---+---+---+---+---+---+---+\n",
      "|   |   |   |   | P |   |   |   | 4\n",
      "+---+---+---+---+---+---+---+---+\n",
      "|   |   |   |   |   |   |   |   | 3\n",
      "+---+---+---+---+---+---+---+---+\n",
      "| P | P | P | P |   | P | P | P | 2\n",
      "+---+---+---+---+---+---+---+---+\n",
      "| R | N | B | Q | K | B | N | R | 1\n",
      "+---+---+---+---+---+---+---+---+\n",
      "  a   b   c   d   e   f   g   h\n",
      "\n"
     ]
    }
   ],
   "source": [
    "print(stockfish.get_board_visual())"
   ]
  }
 ],
 "metadata": {
  "kernelspec": {
   "display_name": "Python 3",
   "language": "python",
   "name": "python3"
  },
  "language_info": {
   "codemirror_mode": {
    "name": "ipython",
    "version": 3
   },
   "file_extension": ".py",
   "mimetype": "text/x-python",
   "name": "python",
   "nbconvert_exporter": "python",
   "pygments_lexer": "ipython3",
   "version": "3.9.13"
  }
 },
 "nbformat": 4,
 "nbformat_minor": 2
}
